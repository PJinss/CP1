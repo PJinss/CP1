{
 "cells": [
  {
   "cell_type": "markdown",
   "metadata": {},
   "source": [
    "인스타그램의 이미지파일을 자동으로 다운로드 받는 코드입니다.\n",
    "\n",
    "준비물은 파이썬 가상환경안에 설치된 instaloader 라이브러리입니다."
   ]
  },
  {
   "cell_type": "code",
   "execution_count": 2,
   "metadata": {},
   "outputs": [],
   "source": [
    "import instaloader\n",
    "from instaloader import Instaloader,Profile,Post  # 필요한 모듈을 불러냅니다."
   ]
  },
  {
   "cell_type": "markdown",
   "metadata": {},
   "source": [
    "인스턴스(instance)를 생성한 후, 내 Instagram 계정(your_username, your_password 내용 교체)으로 로그인합니다. *Instagram 웹페이지에서 해당 계정으로 로그인해보신 후 실습을 진행합니다."
   ]
  },
  {
   "cell_type": "code",
   "execution_count": null,
   "metadata": {},
   "outputs": [],
   "source": [
    "from time import sleep\n",
    "L = Instaloader()\n",
    "L.login('pgn337',';;') # 나의 정보를 입력합니다.\n",
    "\n",
    "profile =  Profile.from_username(L.context,'hoho.ya84')\n",
    "\n",
    "posts = profile.get_posts()\n",
    "\n",
    "cnt = 0\n",
    "for post in posts:\n",
    "    L.download_post(post,'hoho.ya84')\n",
    "    cnt += 1\n",
    "    if cnt == 10:\n",
    "        cnt = 0\n",
    "        sleep(20)"
   ]
  },
  {
   "cell_type": "code",
   "execution_count": null,
   "metadata": {},
   "outputs": [],
   "source": [
    "from datetime import datetime\n",
    "from itertools import dropwhile, takewhile\n",
    "from random import randint\n",
    "\n",
    "from time import sleep\n",
    "L = Instaloader()\n",
    "L.login('pgn337','.wz46807913') # 나의 정보를 입력합니다. ;;\n",
    "\n",
    "FROM = datetime(2022, 3, 28)\n",
    "TO = datetime(2023,12,1)\n",
    "\n",
    "TARGETS = ['hoho.ya84']\n",
    "\n",
    "for target in TARGETS:\n",
    "    posts = Profile.from_username(L.context, target).get_posts()\n",
    "    \n",
    "    for post in takewhile(lambda p: p.date > FROM,dropwhile(lambda p: p.date > TO, posts)):\n",
    "        sleep(randint(3, 20))\n",
    "        L.download_post(post, target)"
   ]
  },
  {
   "cell_type": "markdown",
   "metadata": {},
   "source": [
    "데이터 전처리 과정중 하나인 회색조로 변환시키는 작업이 필요합니다.\n",
    "<하지만 예시로써 필요합니다 >"
   ]
  },
  {
   "cell_type": "code",
   "execution_count": 11,
   "metadata": {},
   "outputs": [],
   "source": [
    "import glob\n",
    "import cv2\n",
    "num = 0\n",
    "image_files = glob.glob('./original/*.webp')\n",
    "\n",
    "for path in image_files:\n",
    "\n",
    "    img = cv2.imread(path,cv2.IMREAD_GRAYSCALE)\n",
    "    resize_img = cv2.resize(img, (750, 750))\n",
    "    save_path = './graycolor/' + str(num) + '.jpg'\n",
    "    cv2.imwrite(save_path,resize_img)\n",
    "\n",
    "    num += 1\n"
   ]
  }
 ],
 "metadata": {
  "kernelspec": {
   "display_name": "Python 3.9.13 ('instaloader.venv')",
   "language": "python",
   "name": "python3"
  },
  "language_info": {
   "codemirror_mode": {
    "name": "ipython",
    "version": 3
   },
   "file_extension": ".py",
   "mimetype": "text/x-python",
   "name": "python",
   "nbconvert_exporter": "python",
   "pygments_lexer": "ipython3",
   "version": "3.9.13"
  },
  "orig_nbformat": 4,
  "vscode": {
   "interpreter": {
    "hash": "579d10712c654782681c3e5293951180e1f62f6e2d7e7b23e324693a96bd3f35"
   }
  }
 },
 "nbformat": 4,
 "nbformat_minor": 2
}
